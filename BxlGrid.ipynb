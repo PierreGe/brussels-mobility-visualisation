{
 "cells": [
  {
   "cell_type": "code",
   "execution_count": 5,
   "metadata": {
    "collapsed": true
   },
   "outputs": [],
   "source": [
    "import matplotlib.pyplot as plt\n",
    "%matplotlib inline\n",
    "\n",
    "from scipy.stats import gaussian_kde\n",
    "import numpy as np\n",
    "import pandas as pd\n",
    "import mplleaflet as mplf\n",
    "import json"
   ]
  },
  {
   "cell_type": "code",
   "execution_count": 40,
   "metadata": {
    "collapsed": false
   },
   "outputs": [],
   "source": [
    "df = pd.read_csv(\"arrets-stib.csv\", delimiter=';')\n",
    "\n",
    "xmin, xmax = df.Longitude.min()-0.051, df.Longitude.max()+0.051\n",
    "ymin, ymax = df.Latitude.min()-0.051, df.Latitude.max()+0.051\n",
    "\n",
    "N = 1000\n",
    "XRange, YRange = np.linspace(xmin, xmax, N), np.linspace(ymin, ymax, N)\n",
    "XMat, YMat = np.meshgrid(XRange, YRange)\n",
    "\n",
    "X, Y = map(np.ravel, [XMat, YMat])\n",
    "kde = gaussian_kde([df.Longitude, df.Latitude])\n",
    "kde_scalar_sigma = 4 # the smaller the bigger the are taken into account\n",
    "kde.set_bandwidth(bw_method=kde.factor / kde_scalar_sigma)\n",
    "Z = kde([X, Y])"
    "ZMat = Z.reshape(XMat.shape)"
   ]
  },
  {
   "cell_type": "code",
   "execution_count": 6,
   "metadata": {
    "collapsed": false
   },
   "outputs": [],
   "source": [
    "fig = plt.figure(figsize=(12, 8))\n",
    "# plt.scatter(df.Longitude, df.Latitude, c='k', alpha=0.25)\n",
    "plt.contourf(XRange, YRange, ZMat, 16, cmap=plt.cm.RdYlGn)\n",
    "plt.contour(XRange, YRange, ZMat, 16, cmap=plt.cm.RdYlGn)\n",
    "mplf.show()"
   ]
  },
  {
   "cell_type": "code",
   "execution_count": 220,
   "metadata": {
    "collapsed": false,
    "scrolled": false
   },
   "outputs": [
   ],
   "source": [
    "from mpl_toolkits.mplot3d import Axes3D\n",
    "fig = plt.figure()\n",
    "ax = fig.add_subplot(111, projection='3d')\n",
    "ax.plot_wireframe(XMat, YMat, ZMat)"
   ]
  },
  {
   "cell_type": "code",
   "execution_count": null,
   "metadata": {
    "collapsed": true
   },
   "outputs": [],
   "source": []
  }
 ],
 "metadata": {
  "kernelspec": {
   "display_name": "Python 2",
   "language": "python",
   "name": "python2"
  },
  "language_info": {
   "codemirror_mode": {
    "name": "ipython",
    "version": 2
   },
   "file_extension": ".py",
   "mimetype": "text/x-python",
   "name": "python",
   "nbconvert_exporter": "python",
   "pygments_lexer": "ipython2",
   "version": "2.7.9"
  }
 },
 "nbformat": 4,
 "nbformat_minor": 0
}
